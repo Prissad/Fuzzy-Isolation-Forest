{
  "nbformat": 4,
  "nbformat_minor": 0,
  "metadata": {
    "colab": {
      "name": "Sample Size Effect.ipynb",
      "provenance": [],
      "collapsed_sections": [],
      "toc_visible": true
    },
    "kernelspec": {
      "name": "python3",
      "display_name": "Python 3"
    },
    "language_info": {
      "name": "python"
    }
  },
  "cells": [
    {
      "cell_type": "markdown",
      "metadata": {
        "id": "Wfi2A5YzSp4Z"
      },
      "source": [
        "#Sample Size Effect"
      ]
    },
    {
      "cell_type": "markdown",
      "metadata": {
        "id": "3VDq9p07StUi"
      },
      "source": [
        "Le but de ce notebook est d'etudier l'effet du sample size sur les performances des algorithmes implémentées (pour vérifier la préservation de la propriété de convergence rapide des Fuzzy Forest Crisp)"
      ]
    },
    {
      "cell_type": "markdown",
      "metadata": {
        "id": "2-5CoTgrbVDs"
      },
      "source": [
        "## Helper Code from Other notebook (for evaluating)"
      ]
    },
    {
      "cell_type": "code",
      "metadata": {
        "colab": {
          "base_uri": "https://localhost:8080/"
        },
        "id": "DPtHWH_Vlx8H",
        "outputId": "7a209ba7-10d8-42a2-d309-eb4f6b31d0cb"
      },
      "source": [
        "!pip install scikit-fuzzy"
      ],
      "execution_count": null,
      "outputs": [
        {
          "output_type": "stream",
          "text": [
            "Collecting scikit-fuzzy\n",
            "\u001b[?25l  Downloading https://files.pythonhosted.org/packages/6c/f0/5eb5dbe0fd8dfe7d4651a8f4e591a196623a22b9e5339101e559695b4f6c/scikit-fuzzy-0.4.2.tar.gz (993kB)\n",
            "\u001b[K     |████████████████████████████████| 1.0MB 3.9MB/s \n",
            "\u001b[?25hRequirement already satisfied: numpy>=1.6.0 in /usr/local/lib/python3.7/dist-packages (from scikit-fuzzy) (1.19.5)\n",
            "Requirement already satisfied: scipy>=0.9.0 in /usr/local/lib/python3.7/dist-packages (from scikit-fuzzy) (1.4.1)\n",
            "Requirement already satisfied: networkx>=1.9.0 in /usr/local/lib/python3.7/dist-packages (from scikit-fuzzy) (2.5.1)\n",
            "Requirement already satisfied: decorator<5,>=4.3 in /usr/local/lib/python3.7/dist-packages (from networkx>=1.9.0->scikit-fuzzy) (4.4.2)\n",
            "Building wheels for collected packages: scikit-fuzzy\n",
            "  Building wheel for scikit-fuzzy (setup.py) ... \u001b[?25l\u001b[?25hdone\n",
            "  Created wheel for scikit-fuzzy: filename=scikit_fuzzy-0.4.2-cp37-none-any.whl size=894088 sha256=117422641a26cccb0bdc29b6192128da2ebaca10aeadd57a2eb98f498314a940\n",
            "  Stored in directory: /root/.cache/pip/wheels/b9/4e/77/da79b16f64ef1738d95486e2731eea09d73e90a72465096600\n",
            "Successfully built scikit-fuzzy\n",
            "Installing collected packages: scikit-fuzzy\n",
            "Successfully installed scikit-fuzzy-0.4.2\n"
          ],
          "name": "stdout"
        }
      ]
    },
    {
      "cell_type": "code",
      "metadata": {
        "id": "IwOTg9C7ls4o"
      },
      "source": [
        "from sklearn.ensemble import IsolationForest\n",
        "from sklearn.model_selection import train_test_split\n",
        "import pandas as pd\n",
        "from sklearn.metrics import roc_auc_score,roc_curve, precision_recall_curve, auc, accuracy_score,f1_score,average_precision_score\n",
        "\n",
        "import seaborn as sns\n",
        "import matplotlib.pyplot as plt\n",
        "from time import time\n",
        "from sklearn.model_selection import KFold"
      ],
      "execution_count": null,
      "outputs": []
    },
    {
      "cell_type": "code",
      "metadata": {
        "id": "O_S20r7Gl1bY"
      },
      "source": [
        "def scores_preds(algorithm, X_train, X_test):\n",
        "  # Randomly split X!\n",
        "  t0 = time()\n",
        "  algorithm.fit(X_train);\n",
        "  tTrain = time() - t0;\n",
        "\n",
        "  t0 = time();\n",
        "  scores = algorithm.score_samples(X_test);\n",
        "  tTest = time() - t0;\n",
        "\n",
        "  preds = algorithm.predict(X_test)\n",
        "\n",
        "  return (scores, preds, tTrain, tTest)"
      ],
      "execution_count": null,
      "outputs": []
    },
    {
      "cell_type": "code",
      "metadata": {
        "id": "NAmpYAAql188"
      },
      "source": [
        "def get_scores(label,scores,preds,y, tTrain = 0, tTest = 0):\n",
        "  comparison_columns = [\"Accuracy\", \"F1\", \"AUC ROC\",\"AUC PR\", \"Train Time\", \"Testing Time\"]\n",
        "  comparaison_data = pd.DataFrame(columns=comparison_columns)\n",
        "\n",
        "  comparaison_data.loc[label] = [accuracy_score(y,preds), f1_score(y,preds), roc_auc_score(y,scores),average_precision_score(y,scores, average='weighted'), tTrain, tTest]\n",
        "\n",
        "  return comparaison_data"
      ],
      "execution_count": null,
      "outputs": []
    },
    {
      "cell_type": "code",
      "metadata": {
        "id": "XxH1MQNCl4sR"
      },
      "source": [
        "def multi_tests(algorithm, X, y, repetition = 10, preds_negatif = False, scores_negatif = False):\n",
        "  eval_columns = [\"Accuracy\", \"F1\", \"AUC ROC\",\"AUC PR\", \"Train Time\", \"Testing Time\"]\n",
        "  eval_data = pd.DataFrame(columns=eval_columns)\n",
        "\n",
        "  for i in range(0,repetition):\n",
        "    X_train, X_test, y_train, y_test = train_test_split(X, y)\n",
        "\n",
        "    scores, preds, tTrain, tTest = scores_preds(iforest, X_train, X_test)\n",
        "\n",
        "    if(preds_negatif):\n",
        "      preds = preds == -1\n",
        "\n",
        "    if(scores_negatif):\n",
        "      scores = - scores\n",
        "\n",
        "    eval_data.loc[f\"test {i}\"] = get_scores(\"sklearn - mulcross\", scores,preds, y_test,tTrain, tTest).iloc[0]\n",
        "\n",
        "\n",
        "  return eval_data\n",
        "\n",
        "  "
      ],
      "execution_count": null,
      "outputs": []
    },
    {
      "cell_type": "code",
      "metadata": {
        "id": "QXMWdg3Vl64f"
      },
      "source": [
        "def k_folds_tests(algorithm, X, y, folds = 10, preds_negatif = False, scores_negatif = False, force_numpy = False):\n",
        "\n",
        "  eval_columns = [\"Accuracy\", \"F1\", \"AUC ROC\",\"AUC PR\", \"Train Time\", \"Testing Time\"]\n",
        "  eval_data = pd.DataFrame(columns=eval_columns)\n",
        "\n",
        "  kf = KFold(n_splits= folds)\n",
        "\n",
        "  i = 1\n",
        "\n",
        "  for train_index, test_index in kf.split(X):\n",
        "\n",
        "    X_train = X.iloc[train_index]\n",
        "    X_test = X.iloc[test_index]\n",
        "    y_train, y_test = y[train_index], y[test_index]\n",
        "    \n",
        "    if(force_numpy):\n",
        "      X_train = X_train.to_numpy();\n",
        "      X_test = X_test.to_numpy();\n",
        "\n",
        "    scores, preds, tTrain, tTest = scores_preds(algorithm, X_train, X_test)\n",
        "\n",
        "    if(preds_negatif):\n",
        "      preds = preds == -1\n",
        "\n",
        "    if(scores_negatif):\n",
        "      scores = - scores\n",
        "\n",
        "    eval_data.loc[f\"test {i}\"] = get_scores(\" - \", scores,preds, y_test,tTrain, tTest).iloc[0]\n",
        "    i+=1\n",
        "\n",
        "  return eval_data\n",
        "\n",
        "  "
      ],
      "execution_count": null,
      "outputs": []
    },
    {
      "cell_type": "markdown",
      "metadata": {
        "id": "co5q8hoebbAU"
      },
      "source": [
        "## The Experience"
      ]
    },
    {
      "cell_type": "code",
      "metadata": {
        "id": "6wnrVrnQl-Mu"
      },
      "source": [
        "iforest = IsolationForest()\n",
        "\n",
        "mulcrossData = pd.read_csv(\"mulcross.csv\")\n",
        "mulcrossData.Target = mulcrossData.Target.map(lambda target: 0 if (target == \"'Normal'\" or target == 0) else 1)\n",
        "mulcrossData[\"Class\"] = mulcrossData.Target\n",
        "mulcrossData = mulcrossData.drop([\"Target\"], axis = 1)\n",
        "\n",
        "mulcrossX = mulcrossData.drop([\"Class\"], axis = 1)\n",
        "mulcrossY = mulcrossData.Class"
      ],
      "execution_count": null,
      "outputs": []
    },
    {
      "cell_type": "markdown",
      "metadata": {
        "id": "Qpy-ETWjTKA4"
      },
      "source": [
        "!! Veillez importer Fuzzifier.py et FuzzyIForest.py avant de procéder"
      ]
    },
    {
      "cell_type": "code",
      "metadata": {
        "id": "QPiLgLval_8b"
      },
      "source": [
        "from Fuzzifier import Fuzzifier\n",
        "from FuzzyIforest import AlphaCutIForestModel"
      ],
      "execution_count": null,
      "outputs": []
    },
    {
      "cell_type": "code",
      "metadata": {
        "id": "X3iWihWmnLfT"
      },
      "source": [
        "fuzz = Fuzzifier(mulcrossX)\n",
        "fuzz.fuzzify()"
      ],
      "execution_count": null,
      "outputs": []
    },
    {
      "cell_type": "code",
      "metadata": {
        "id": "H4NZlDX4nQ_C"
      },
      "source": [
        "fuzzyX = fuzz.toDataFrame()"
      ],
      "execution_count": null,
      "outputs": []
    },
    {
      "cell_type": "code",
      "metadata": {
        "colab": {
          "base_uri": "https://localhost:8080/",
          "height": 197
        },
        "id": "QNIx5wiAnUGt",
        "outputId": "60a1ae14-088b-46eb-84e5-e6d9ce17e64b"
      },
      "source": [
        "fuzzyX.head()"
      ],
      "execution_count": null,
      "outputs": [
        {
          "output_type": "execute_result",
          "data": {
            "text/html": [
              "<div>\n",
              "<style scoped>\n",
              "    .dataframe tbody tr th:only-of-type {\n",
              "        vertical-align: middle;\n",
              "    }\n",
              "\n",
              "    .dataframe tbody tr th {\n",
              "        vertical-align: top;\n",
              "    }\n",
              "\n",
              "    .dataframe thead th {\n",
              "        text-align: right;\n",
              "    }\n",
              "</style>\n",
              "<table border=\"1\" class=\"dataframe\">\n",
              "  <thead>\n",
              "    <tr style=\"text-align: right;\">\n",
              "      <th></th>\n",
              "      <th>V1;poor</th>\n",
              "      <th>V1;average</th>\n",
              "      <th>V1;good</th>\n",
              "      <th>V2;poor</th>\n",
              "      <th>V2;average</th>\n",
              "      <th>V2;good</th>\n",
              "      <th>V3;poor</th>\n",
              "      <th>V3;average</th>\n",
              "      <th>V3;good</th>\n",
              "      <th>V4;poor</th>\n",
              "      <th>V4;average</th>\n",
              "      <th>V4;good</th>\n",
              "    </tr>\n",
              "  </thead>\n",
              "  <tbody>\n",
              "    <tr>\n",
              "      <th>0</th>\n",
              "      <td>0.023579</td>\n",
              "      <td>0.976421</td>\n",
              "      <td>0.000000</td>\n",
              "      <td>0.0</td>\n",
              "      <td>0.954010</td>\n",
              "      <td>0.045990</td>\n",
              "      <td>0.000000</td>\n",
              "      <td>0.642930</td>\n",
              "      <td>0.357070</td>\n",
              "      <td>0.000000</td>\n",
              "      <td>0.851410</td>\n",
              "      <td>0.148590</td>\n",
              "    </tr>\n",
              "    <tr>\n",
              "      <th>1</th>\n",
              "      <td>0.146758</td>\n",
              "      <td>0.853242</td>\n",
              "      <td>0.000000</td>\n",
              "      <td>0.0</td>\n",
              "      <td>0.484340</td>\n",
              "      <td>0.515660</td>\n",
              "      <td>0.000000</td>\n",
              "      <td>0.759904</td>\n",
              "      <td>0.240096</td>\n",
              "      <td>0.000000</td>\n",
              "      <td>0.691427</td>\n",
              "      <td>0.308573</td>\n",
              "    </tr>\n",
              "    <tr>\n",
              "      <th>2</th>\n",
              "      <td>0.024912</td>\n",
              "      <td>0.975088</td>\n",
              "      <td>0.000000</td>\n",
              "      <td>0.0</td>\n",
              "      <td>0.780023</td>\n",
              "      <td>0.219977</td>\n",
              "      <td>0.099642</td>\n",
              "      <td>0.900358</td>\n",
              "      <td>0.000000</td>\n",
              "      <td>0.000000</td>\n",
              "      <td>0.984722</td>\n",
              "      <td>0.015278</td>\n",
              "    </tr>\n",
              "    <tr>\n",
              "      <th>3</th>\n",
              "      <td>0.000000</td>\n",
              "      <td>0.793485</td>\n",
              "      <td>0.206515</td>\n",
              "      <td>0.0</td>\n",
              "      <td>0.888924</td>\n",
              "      <td>0.111076</td>\n",
              "      <td>0.150643</td>\n",
              "      <td>0.849357</td>\n",
              "      <td>0.000000</td>\n",
              "      <td>0.020014</td>\n",
              "      <td>0.979986</td>\n",
              "      <td>0.000000</td>\n",
              "    </tr>\n",
              "    <tr>\n",
              "      <th>4</th>\n",
              "      <td>0.000000</td>\n",
              "      <td>0.878073</td>\n",
              "      <td>0.121927</td>\n",
              "      <td>0.0</td>\n",
              "      <td>0.682839</td>\n",
              "      <td>0.317161</td>\n",
              "      <td>0.072386</td>\n",
              "      <td>0.927614</td>\n",
              "      <td>0.000000</td>\n",
              "      <td>0.000000</td>\n",
              "      <td>0.840418</td>\n",
              "      <td>0.159582</td>\n",
              "    </tr>\n",
              "  </tbody>\n",
              "</table>\n",
              "</div>"
            ],
            "text/plain": [
              "    V1;poor  V1;average   V1;good  ...   V4;poor  V4;average   V4;good\n",
              "0  0.023579    0.976421  0.000000  ...  0.000000    0.851410  0.148590\n",
              "1  0.146758    0.853242  0.000000  ...  0.000000    0.691427  0.308573\n",
              "2  0.024912    0.975088  0.000000  ...  0.000000    0.984722  0.015278\n",
              "3  0.000000    0.793485  0.206515  ...  0.020014    0.979986  0.000000\n",
              "4  0.000000    0.878073  0.121927  ...  0.000000    0.840418  0.159582\n",
              "\n",
              "[5 rows x 12 columns]"
            ]
          },
          "metadata": {
            "tags": []
          },
          "execution_count": 14
        }
      ]
    },
    {
      "cell_type": "code",
      "metadata": {
        "id": "NGA947bDnplN"
      },
      "source": [
        "ifuzzyforest = AlphaCutIForestModel(number_of_trees = 100, sample_size = 256)"
      ],
      "execution_count": null,
      "outputs": []
    },
    {
      "cell_type": "code",
      "metadata": {
        "id": "cqCTaZqVnXSP"
      },
      "source": [
        "tests = k_folds_tests(ifuzzyforest,fuzzyX, mulcrossY, folds = 4, force_numpy = True)"
      ],
      "execution_count": null,
      "outputs": []
    },
    {
      "cell_type": "code",
      "metadata": {
        "colab": {
          "base_uri": "https://localhost:8080/"
        },
        "id": "PFk9zQkPok_J",
        "outputId": "727e2945-4f4e-4f49-9d78-67cdd6bfb513"
      },
      "source": [
        "tests.mean()"
      ],
      "execution_count": null,
      "outputs": [
        {
          "output_type": "execute_result",
          "data": {
            "text/plain": [
              "Accuracy         0.914902\n",
              "F1               0.574468\n",
              "AUC ROC          0.954171\n",
              "AUC PR           0.513515\n",
              "Train Time       1.083233\n",
              "Testing Time    44.691475\n",
              "dtype: float64"
            ]
          },
          "metadata": {
            "tags": []
          },
          "execution_count": 23
        }
      ]
    },
    {
      "cell_type": "code",
      "metadata": {
        "colab": {
          "base_uri": "https://localhost:8080/"
        },
        "id": "7GxSE8sknmWb",
        "outputId": "41c51509-90b2-4d05-c671-043f47400319"
      },
      "source": [
        "df = pd.DataFrame({}, columns=['ROC','PR'])\n",
        "for i in range(6,15):\n",
        "  sample_size = 2 ** i\n",
        "\n",
        "  ifuzzyforest = AlphaCutIForestModel(number_of_trees = 100, sample_size = sample_size)\n",
        "  tests = k_folds_tests(ifuzzyforest,fuzzyX, mulcrossY, folds = 4, force_numpy = True)\n",
        "  print(f\"GOT TO {i}\")\n",
        "  df.loc[i,\"ROC\"] = tests.mean()[\"AUC ROC\"]\n",
        "  df.loc[i,\"PR\"] = tests.mean()[\"AUC PR\"]"
      ],
      "execution_count": null,
      "outputs": [
        {
          "output_type": "stream",
          "text": [
            "GOT TO 6\n",
            "GOT TO 7\n",
            "GOT TO 8\n",
            "GOT TO 9\n",
            "GOT TO 10\n",
            "GOT TO 11\n",
            "GOT TO 12\n",
            "GOT TO 13\n",
            "GOT TO 14\n"
          ],
          "name": "stdout"
        }
      ]
    },
    {
      "cell_type": "code",
      "metadata": {
        "colab": {
          "base_uri": "https://localhost:8080/"
        },
        "id": "3Zw2-1Yp5gPC",
        "outputId": "e3a3ed17-9b97-45ad-b319-f56a0fdcf360"
      },
      "source": [
        "df = pd.DataFrame({}, columns=['ROC','PR'])\n",
        "for i in range(15,17):\n",
        "  sample_size = 2 ** i\n",
        "\n",
        "  ifuzzyforest = AlphaCutIForestModel(number_of_trees = 100, sample_size = sample_size)\n",
        "  tests = k_folds_tests(ifuzzyforest,fuzzyX, mulcrossY, folds = 4, force_numpy = True)\n",
        "  print(f\"GOT TO {i}\")\n",
        "  df.loc[i,\"ROC\"] = tests.mean()[\"AUC ROC\"]\n",
        "  df.loc[i,\"PR\"] = tests.mean()[\"AUC PR\"]"
      ],
      "execution_count": null,
      "outputs": [
        {
          "output_type": "stream",
          "text": [
            "GOT TO 15\n"
          ],
          "name": "stdout"
        }
      ]
    },
    {
      "cell_type": "code",
      "metadata": {
        "colab": {
          "base_uri": "https://localhost:8080/",
          "height": 328
        },
        "id": "fayQFI4CowyF",
        "outputId": "09479e7f-328e-4776-a0b8-7c151f814872"
      },
      "source": [
        "df"
      ],
      "execution_count": null,
      "outputs": [
        {
          "output_type": "execute_result",
          "data": {
            "text/html": [
              "<div>\n",
              "<style scoped>\n",
              "    .dataframe tbody tr th:only-of-type {\n",
              "        vertical-align: middle;\n",
              "    }\n",
              "\n",
              "    .dataframe tbody tr th {\n",
              "        vertical-align: top;\n",
              "    }\n",
              "\n",
              "    .dataframe thead th {\n",
              "        text-align: right;\n",
              "    }\n",
              "</style>\n",
              "<table border=\"1\" class=\"dataframe\">\n",
              "  <thead>\n",
              "    <tr style=\"text-align: right;\">\n",
              "      <th></th>\n",
              "      <th>ROC</th>\n",
              "      <th>PR</th>\n",
              "    </tr>\n",
              "  </thead>\n",
              "  <tbody>\n",
              "    <tr>\n",
              "      <th>6</th>\n",
              "      <td>0.990507</td>\n",
              "      <td>0.816703</td>\n",
              "    </tr>\n",
              "    <tr>\n",
              "      <th>7</th>\n",
              "      <td>0.963405</td>\n",
              "      <td>0.551428</td>\n",
              "    </tr>\n",
              "    <tr>\n",
              "      <th>8</th>\n",
              "      <td>0.945631</td>\n",
              "      <td>0.472417</td>\n",
              "    </tr>\n",
              "    <tr>\n",
              "      <th>9</th>\n",
              "      <td>0.923415</td>\n",
              "      <td>0.386929</td>\n",
              "    </tr>\n",
              "    <tr>\n",
              "      <th>10</th>\n",
              "      <td>0.886919</td>\n",
              "      <td>0.311377</td>\n",
              "    </tr>\n",
              "    <tr>\n",
              "      <th>11</th>\n",
              "      <td>0.899366</td>\n",
              "      <td>0.332899</td>\n",
              "    </tr>\n",
              "    <tr>\n",
              "      <th>12</th>\n",
              "      <td>0.878573</td>\n",
              "      <td>0.299002</td>\n",
              "    </tr>\n",
              "    <tr>\n",
              "      <th>13</th>\n",
              "      <td>0.858408</td>\n",
              "      <td>0.267558</td>\n",
              "    </tr>\n",
              "    <tr>\n",
              "      <th>14</th>\n",
              "      <td>0.832845</td>\n",
              "      <td>0.237795</td>\n",
              "    </tr>\n",
              "  </tbody>\n",
              "</table>\n",
              "</div>"
            ],
            "text/plain": [
              "         ROC        PR\n",
              "6   0.990507  0.816703\n",
              "7   0.963405  0.551428\n",
              "8   0.945631  0.472417\n",
              "9   0.923415  0.386929\n",
              "10  0.886919  0.311377\n",
              "11  0.899366  0.332899\n",
              "12  0.878573  0.299002\n",
              "13  0.858408  0.267558\n",
              "14  0.832845  0.237795"
            ]
          },
          "metadata": {
            "tags": []
          },
          "execution_count": 34
        }
      ]
    },
    {
      "cell_type": "code",
      "metadata": {
        "colab": {
          "base_uri": "https://localhost:8080/",
          "height": 282
        },
        "id": "uH_vuEylvAAn",
        "outputId": "205185e1-41af-41b2-e81c-f747d1a2fe53"
      },
      "source": [
        "plt.plot(df['ROC'], linestyle = 'dotted')"
      ],
      "execution_count": null,
      "outputs": [
        {
          "output_type": "execute_result",
          "data": {
            "text/plain": [
              "[<matplotlib.lines.Line2D at 0x7f1a3c483a90>]"
            ]
          },
          "metadata": {
            "tags": []
          },
          "execution_count": 39
        },
        {
          "output_type": "display_data",
          "data": {
            "image/png": "[encoded data removed]",
            "text/plain": [
              "<Figure size 432x288 with 1 Axes>"
            ]
          },
          "metadata": {
            "tags": [],
            "needs_background": "light"
          }
        }
      ]
    },
    {
      "cell_type": "code",
      "metadata": {
        "id": "hI7L2N-fss0E"
      },
      "source": [
        ""
      ],
      "execution_count": null,
      "outputs": []
    }
  ]
}